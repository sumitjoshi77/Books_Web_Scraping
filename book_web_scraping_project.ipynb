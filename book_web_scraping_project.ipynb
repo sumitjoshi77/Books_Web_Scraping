{
  "nbformat": 4,
  "nbformat_minor": 0,
  "metadata": {
    "colab": {
      "provenance": [],
      "authorship_tag": "ABX9TyOrY2kdWQhTghDnupt9Yi0X",
      "include_colab_link": true
    },
    "kernelspec": {
      "name": "python3",
      "display_name": "Python 3"
    },
    "language_info": {
      "name": "python"
    }
  },
  "cells": [
    {
      "cell_type": "markdown",
      "metadata": {
        "id": "view-in-github",
        "colab_type": "text"
      },
      "source": [
        "<a href=\"https://colab.research.google.com/github/sumitjoshi77/Books_Web_Scraping/blob/main/book_web_scraping_project.ipynb\" target=\"_parent\"><img src=\"https://colab.research.google.com/assets/colab-badge.svg\" alt=\"Open In Colab\"/></a>"
      ]
    },
    {
      "cell_type": "code",
      "execution_count": null,
      "metadata": {
        "id": "KOXKTvJx9eAQ"
      },
      "outputs": [],
      "source": [
        "import requests\n",
        "from bs4 import BeautifulSoup\n",
        "import pandas as pd"
      ]
    },
    {
      "cell_type": "code",
      "source": [
        "books = []\n",
        "for i in range(1,51):\n",
        "  url = f\"https://books.toscrape.com/catalogue/page-{i}.html\"\n",
        "  response = requests.get(url)\n",
        "  response = response.content\n",
        "  soup = BeautifulSoup(response, 'html.parser')\n",
        "  ol = soup.find(\"ol\")\n",
        "  articles = ol.find_all('article', class_= 'product_pod')\n",
        "  \n",
        "\n",
        "  for article in articles:\n",
        "    image = article.find('img')\n",
        "    title = image.attrs['alt']\n",
        "    star = article.find('p')\n",
        "    star = star['class'][1]\n",
        "    price = article.find('p', class_='price_color').text\n",
        "    price = float(price[1:])\n",
        "    books.append([title,star,price])\n",
        " "
      ],
      "metadata": {
        "id": "H2KRtz3GAj4Y"
      },
      "execution_count": null,
      "outputs": []
    },
    {
      "cell_type": "code",
      "source": [
        "df = pd.DataFrame(books, columns=['Title','Price', 'Star_Rating'])"
      ],
      "metadata": {
        "id": "r_gZswJJC4GJ"
      },
      "execution_count": null,
      "outputs": []
    },
    {
      "cell_type": "code",
      "source": [
        " df.to_csv('books.csv')"
      ],
      "metadata": {
        "id": "mjTtTZ-MG23Y"
      },
      "execution_count": null,
      "outputs": []
    },
    {
      "cell_type": "code",
      "source": [],
      "metadata": {
        "id": "FbUl-0fYHWKD"
      },
      "execution_count": null,
      "outputs": []
    }
  ]
}